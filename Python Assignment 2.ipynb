{
 "cells": [
  {
   "cell_type": "code",
   "execution_count": 59,
   "metadata": {},
   "outputs": [
    {
     "name": "stdout",
     "output_type": "stream",
     "text": [
      "*\n",
      "**\n",
      "***\n",
      "****\n",
      "*****\n",
      "****\n",
      "***\n",
      "**\n",
      "*\n"
     ]
    }
   ],
   "source": [
    "#max_star_in_upper_triangle = input('enter max number of star in row - ')\n",
    "\n",
    "max_star_in_upper_triangle = 5\n",
    "max_star_in_lower_triangle = int(max_star_in_upper_triangle) - 1\n",
    "\n",
    "temp_list = list(range(int(max_star_in_upper_triangle + 1)))\n",
    "temp_list.pop(0)\n",
    "\n",
    "temp_list2 = list(range(int(max_star_in_lower_triangle + 1)))\n",
    "temp_list2.pop(0)\n",
    "temp_list2 = temp_list2[::-1]\n",
    "\n",
    "temp_list.extend(temp_list2)\n",
    "\n",
    "for i in temp_list:\n",
    "    \n",
    "    star_str = '';\n",
    "    new_list = list(range(i))\n",
    "    \n",
    "    for j in new_list:\n",
    "        star_str += '*'\n",
    "    \n",
    "    print(star_str)\n",
    "        \n"
   ]
  },
  {
   "cell_type": "code",
   "execution_count": 30,
   "metadata": {},
   "outputs": [
    {
     "name": "stdout",
     "output_type": "stream",
     "text": [
      "enter word - test\n",
      "tset\n"
     ]
    }
   ],
   "source": [
    "word = input('enter word - ')\n",
    "\n",
    "word_list = list(word)\n",
    "\n",
    "#Syntax: reversed_list = systems[start:stop:step] \n",
    "reverse_word_list = word_list[::-1]\n",
    "\n",
    "print(''.join(reverse_word_list))"
   ]
  }
 ],
 "metadata": {
  "kernelspec": {
   "display_name": "Python 3",
   "language": "python",
   "name": "python3"
  },
  "language_info": {
   "codemirror_mode": {
    "name": "ipython",
    "version": 3
   },
   "file_extension": ".py",
   "mimetype": "text/x-python",
   "name": "python",
   "nbconvert_exporter": "python",
   "pygments_lexer": "ipython3",
   "version": "3.8.3"
  }
 },
 "nbformat": 4,
 "nbformat_minor": 4
}
