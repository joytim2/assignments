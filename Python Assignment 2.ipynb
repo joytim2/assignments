{
 "cells": [
  {
   "cell_type": "code",
   "execution_count": 10,
   "metadata": {},
   "outputs": [
    {
     "name": "stdout",
     "output_type": "stream",
     "text": [
      "[0, 1, 2, 3, 4, 5, 6, 7, 8]\n"
     ]
    }
   ],
   "source": [
    "i = 1\n",
    "j = 1\n",
    "max_number = 5\n",
    "min_number = 1\n",
    "str_star = ''\n",
    "\n",
    "range1 = list(range(9))\n",
    "range2 = list(range(5))\n",
    "range3 = list(range(5))\n",
    "\n",
    "for (i < range1):\n",
    "    for (j <= range2):\n",
    "        str_star\n",
    "        \n",
    "    \n"
   ]
  },
  {
   "cell_type": "code",
   "execution_count": 3,
   "metadata": {},
   "outputs": [
    {
     "name": "stdout",
     "output_type": "stream",
     "text": [
      "enter word - Jupyter\n",
      "retypuJ\n"
     ]
    }
   ],
   "source": [
    "word = input('enter word - ')\n",
    "\n",
    "word_list = list(word)\n",
    "\n",
    "#Syntax: reversed_list = systems[start:stop:step] \n",
    "reverse_word_list = word_list[::-1]\n",
    "\n",
    "print(''.join(reverse_word_list))"
   ]
  }
 ],
 "metadata": {
  "kernelspec": {
   "display_name": "Python 3",
   "language": "python",
   "name": "python3"
  },
  "language_info": {
   "codemirror_mode": {
    "name": "ipython",
    "version": 3
   },
   "file_extension": ".py",
   "mimetype": "text/x-python",
   "name": "python",
   "nbconvert_exporter": "python",
   "pygments_lexer": "ipython3",
   "version": "3.8.3"
  }
 },
 "nbformat": 4,
 "nbformat_minor": 4
}
