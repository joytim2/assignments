{
 "cells": [
  {
   "cell_type": "code",
   "execution_count": 22,
   "metadata": {},
   "outputs": [
    {
     "name": "stdout",
     "output_type": "stream",
     "text": [
      "2002, 2009, 2016, 2023, 2037, 2044, 2051, 2058, 2072, 2079, 2086, 2093, 2107, 2114, 2121, 2128, 2142, 2149, 2156, 2163, 2177, 2184, 2191, 2198, 2212, 2219, 2226, 2233, 2247, 2254, 2261, 2268, 2282, 2289, 2296, 2303, 2317, 2324, 2331, 2338, 2352, 2359, 2366, 2373, 2387, 2394, 2401, 2408, 2422, 2429, 2436, 2443, 2457, 2464, 2471, 2478, 2492, 2499, 2506, 2513, 2527, 2534, 2541, 2548, 2562, 2569, 2576, 2583, 2597, 2604, 2611, 2618, 2632, 2639, 2646, 2653, 2667, 2674, 2681, 2688, 2702, 2709, 2716, 2723, 2737, 2744, 2751, 2758, 2772, 2779, 2786, 2793, 2807, 2814, 2821, 2828, 2842, 2849, 2856, 2863, 2877, 2884, 2891, 2898, 2912, 2919, 2926, 2933, 2947, 2954, 2961, 2968, 2982, 2989, 2996, 3003, 3017, 3024, 3031, 3038, 3052, 3059, 3066, 3073, 3087, 3094, 3101, 3108, 3122, 3129, 3136, 3143, 3157, 3164, 3171, 3178, 3192, 3199\n"
     ]
    }
   ],
   "source": [
    "final_num_list = []\n",
    "\n",
    "start_loop_at_num = 2000\n",
    "stop_loop_at_num = 3200\n",
    "\n",
    "while(start_loop_at_num <= stop_loop_at_num):\n",
    "    \n",
    "    ## check if number is divisible by 7\n",
    "    if ((start_loop_at_num%7) == 0):\n",
    "        \n",
    "         ## check if number is multiple of 5\n",
    "        if ((start_loop_at_num%5) != 0):\n",
    "            final_num_list.append(str(start_loop_at_num))\n",
    "            \n",
    "    start_loop_at_num += 1\n",
    "\n",
    "num_as_str = \", \".join(final_num_list)\n",
    "print(num_as_str)"
   ]
  },
  {
   "cell_type": "code",
   "execution_count": 25,
   "metadata": {},
   "outputs": [
    {
     "name": "stdout",
     "output_type": "stream",
     "text": [
      "enter your first name - Jyoti\n",
      "enter your last name - Mourya\n",
      "Mourya Jyoti\n"
     ]
    }
   ],
   "source": [
    "first_name = input('enter your first name - ')\n",
    "last_name = input('enter your last name - ')\n",
    "\n",
    "print(last_name.title()+' '+first_name.title())\n"
   ]
  },
  {
   "cell_type": "code",
   "execution_count": 26,
   "metadata": {},
   "outputs": [
    {
     "name": "stdout",
     "output_type": "stream",
     "text": [
      "904.7786842338603\n"
     ]
    }
   ],
   "source": [
    "import math as mt\n",
    "\n",
    "diameter  = 12\n",
    "radius = 12 / 2\n",
    "\n",
    "volume = 4/3 * mt.pi * (radius ** 3)\n",
    "\n",
    "print(volume)"
   ]
  }
 ],
 "metadata": {
  "kernelspec": {
   "display_name": "Python 3",
   "language": "python",
   "name": "python3"
  },
  "language_info": {
   "codemirror_mode": {
    "name": "ipython",
    "version": 3
   },
   "file_extension": ".py",
   "mimetype": "text/x-python",
   "name": "python",
   "nbconvert_exporter": "python",
   "pygments_lexer": "ipython3",
   "version": "3.8.3"
  }
 },
 "nbformat": 4,
 "nbformat_minor": 4
}
